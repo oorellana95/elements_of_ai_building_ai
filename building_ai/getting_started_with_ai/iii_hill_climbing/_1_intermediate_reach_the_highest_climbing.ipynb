{
 "cells": [
  {
   "cell_type": "code",
   "execution_count": 1,
   "outputs": [
    {
     "name": "stdout",
     "output_type": "stream",
     "text": [
      "Venla started at 19 and got to 6\n"
     ]
    },
    {
     "data": {
      "text/plain": "(19, 6)"
     },
     "execution_count": 1,
     "metadata": {},
     "output_type": "execute_result"
    }
   ],
   "source": [
    "import math\n",
    "import random             \t# just for generating random mountains\n",
    "\n",
    "# generate random mountains\n",
    "w = [random.random()/3, random.random()/3, random.random()/3]\n",
    "h = [1.+math.sin(1+x/6.)*w[0]+math.sin(-.3+x/9.)*w[1]+math.sin(-.2+x/30.)*w[2] for x in range(100)]\n",
    "h[0] = 0.0; h[99] = 0.0\n",
    "\n",
    "def climb(x, h):\n",
    "    # keep climbing until we've found a summit\n",
    "    summit = False\n",
    "\n",
    "    # edit here\n",
    "    while not summit:\n",
    "        if h[x + 1] > h[x]:\n",
    "            x += 1         # right is higher, go there\n",
    "        elif h[x - 1] > h[x]:\n",
    "            x -= 1 # right is higher, go there\n",
    "        else:\n",
    "            summit = True # stop unless there's a way up\n",
    "    return x\n",
    "\n",
    "\n",
    "def climb_solution(x, h):\n",
    "    # keep climbing until we've found a summit\n",
    "    summit = False\n",
    "\n",
    "    while not summit:\n",
    "        summit = True            # stop unless there's a way up\n",
    "        if h[x + 1] > h[x] and h[x+1]:\n",
    "            x = x + 1            # right is higher, go there\n",
    "            summit = False       # and keep going\n",
    "        elif h[x - 1] > h[x]:\n",
    "            x = x - 1            # left is higher, go there\n",
    "            summit = False       # and keep going\n",
    "    return x\n",
    "\n",
    "\n",
    "def main(h):\n",
    "\n",
    "    # start at a random place\n",
    "    x0 = random.randint(1, 98)\n",
    "    x = climb(x0, h)\n",
    "\n",
    "    print(\"Venla started at %d and got to %d\" % (x0, x))\n",
    "    return x0, x\n",
    "\n",
    "main(h)"
   ],
   "metadata": {
    "collapsed": false
   }
  },
  {
   "cell_type": "code",
   "execution_count": null,
   "outputs": [],
   "source": [],
   "metadata": {
    "collapsed": false
   }
  }
 ],
 "metadata": {
  "kernelspec": {
   "display_name": "Python 3",
   "language": "python",
   "name": "python3"
  },
  "language_info": {
   "codemirror_mode": {
    "name": "ipython",
    "version": 2
   },
   "file_extension": ".py",
   "mimetype": "text/x-python",
   "name": "python",
   "nbconvert_exporter": "python",
   "pygments_lexer": "ipython2",
   "version": "2.7.6"
  }
 },
 "nbformat": 4,
 "nbformat_minor": 0
}

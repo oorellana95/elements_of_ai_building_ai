{
 "cells": [
  {
   "cell_type": "code",
   "execution_count": 1,
   "outputs": [
    {
     "name": "stdout",
     "output_type": "stream",
     "text": [
      "ended up at 2283, highest point is 2283\n"
     ]
    }
   ],
   "source": [
    "\"\"\"\n",
    "Exercise 6 (intermediate): Simulated Annealing\n",
    "\n",
    "Your task is to modify the code to use simulated annealing. Use the cooling schedule for setting the temperature provided above, and modify the acceptance criterion from only accepting upward moves to accepting also downward moves with the proper probability. Remember that in this exercise the score in simulated annealing is the height of a given location on the mountain. Also note that you will need to handle T=0 case separately, since the acceptance probability for a worse score should be zero for zero temperature, but the formula used for the probability will result in division by zero.\n",
    "\"\"\"\n",
    "import math\n",
    "import random\n",
    "import numpy as np\n",
    "\n",
    "n = 10000 # size of the problem: number of possible solutions x = 0, ..., n-1\n",
    "\n",
    "# generate random mountains\n",
    "def mountains(n):\n",
    "    h = [0]*n\n",
    "    for i in range(50):\n",
    "        c = random.randint(20, n-20)\n",
    "        w = random.randint(3, int(math.sqrt(n/5)))**2\n",
    "        s = random.random()\n",
    "        h[max(0, c-w):min(n, c+w)] = [h[i] + s*(w-abs(c-i)) for i in range(max(0, c-w), min(n, c+w))]\n",
    "\n",
    "    # scale the height so that the lowest point is 0.0 and the highest peak is 1.0\n",
    "    low = min(h)\n",
    "    high = max(h)\n",
    "    h = [y - low for y in h]\n",
    "    h = [y / (high-low) for y in h]\n",
    "    return h\n",
    "\n",
    "h = mountains(n)\n",
    "\n",
    "# start at a random place\n",
    "x0 = random.randint(1, n-1)\n",
    "x = x0\n",
    "\n",
    "# keep climbing for 5000 steps\n",
    "steps = 5000\n",
    "\n",
    "def main(h, x):\n",
    "    n = len(h)\n",
    "    # the climbing starts here\n",
    "    for step in range(steps):\n",
    "        # let's try randomly moving (max. 1000 steps) left or right\n",
    "        # making sure we don't fall off the edge of the world at 0 or n-1\n",
    "        # the height at this point will be our candidate score, S_new\n",
    "        # while the height at our current location will be S_old\n",
    "        x_new = random.randint(max(0, x-1000), min(n-1, x+1000))\n",
    "\n",
    "        if h[x_new] > h[x]:\n",
    "            x = x_new           # the new position is higher, go there\n",
    "        else:\n",
    "            # this is our temperature to be used for simulated annealing\n",
    "            # it starts large and decreases with each step. you don't have to change this\n",
    "            T = 2*max(0, ((steps-step*1.2)/steps))**3\n",
    "            if T != 0:\n",
    "                probability = math.exp(-(h[x] - h[x_new]) / T)\n",
    "                if random.random() < probability:\n",
    "                    x = x_new\n",
    "    return x\n",
    "\n",
    "x = main(h, x0)\n",
    "print(\"ended up at %d, highest point is %d\" % (x, np.argmax(h)))"
   ],
   "metadata": {
    "collapsed": false
   }
  },
  {
   "cell_type": "code",
   "execution_count": 2,
   "outputs": [
    {
     "data": {
      "text/plain": "<Figure size 1000x200 with 1 Axes>",
      "image/png": "[encoded data removed]"
     },
     "metadata": {},
     "output_type": "display_data"
    }
   ],
   "source": [
    "\"\"\"Plot, code from https://gist.github.com/AayushKucheria/00912c1fe1d60ae01052f0c905c606e2\"\"\"\n",
    "import matplotlib as mpl\n",
    "import matplotlib.pyplot as plt\n",
    "import matplotlib.colors as mcolors\n",
    "from matplotlib.patches import Polygon\n",
    "\n",
    "def gradient_fill(x, y, fill_color=None, ax=None, **kwargs):\n",
    "    if ax is None:\n",
    "        ax = plt.gca()\n",
    "\n",
    "    line, = ax.plot(x, y, **kwargs)\n",
    "    if fill_color is None:\n",
    "        fill_color = line.get_color()\n",
    "\n",
    "    zorder = line.get_zorder()\n",
    "    alpha = line.get_alpha()\n",
    "    alpha = 1.0 if alpha is None else alpha\n",
    "\n",
    "    z = np.empty((100, 1, 4), dtype=float)\n",
    "    rgb = mcolors.colorConverter.to_rgb(fill_color)\n",
    "    z[:,:,:3] = rgb\n",
    "    z[:,:,-1] = np.linspace(0, alpha, 100)[:,None]\n",
    "\n",
    "    xmin, xmax, ymin, ymax = x.min(), x.max(), y.min(), y.max()\n",
    "    im = ax.imshow(z, aspect='auto', extent=[xmin, xmax, ymin, ymax],\n",
    "                   origin='lower', zorder=zorder)\n",
    "\n",
    "    xy = np.column_stack([x, y])\n",
    "    xy = np.vstack([[xmin, ymin], xy, [xmax, ymin], [xmin, ymin]])\n",
    "    clip_path = Polygon(xy, facecolor='none', edgecolor='none', closed=True, zorder=-100)\n",
    "    ax.add_patch(clip_path)\n",
    "    im.set_clip_path(clip_path)\n",
    "\n",
    "    return line, im\n",
    "\n",
    "def plot_exercise6_intermediate():\n",
    "    xx = np.array(list(range(n)))\n",
    "    yy = np.array(h)\n",
    "    plt.figure(figsize=(10,2))\n",
    "    plt.gca().set_ylim(0, 1.2)\n",
    "    plt.gca().set_xlim(0, n)\n",
    "    plotlim = plt.gca().get_xlim() + plt.gca().get_ylim()\n",
    "    cmap = mpl.cm.Blues(np.linspace(.2,.6,100))\n",
    "    cmap = mpl.colors.ListedColormap(cmap[10:,:-1])\n",
    "    plt.imshow([[0,0],[1,1]], cmap=cmap, interpolation='bicubic', extent=plotlim, zorder=-200)\n",
    "    plt.grid(False)\n",
    "    plt.fill_between(xx, 0, yy, color='rosybrown', zorder=-150)\n",
    "    gradient_fill(xx, yy, 'white', plt.gca(), color='None')\n",
    "    plt.plot([x0], [h[x0]], color='k', marker='s', markersize=10, zorder=50)\n",
    "    plt.plot([x], [h[x]], color='r', marker='*', markersize=15, zorder=51)\n",
    "\n",
    "    plt.show()\n",
    "\n",
    "plot_exercise6_intermediate()"
   ],
   "metadata": {
    "collapsed": false
   }
  }
 ],
 "metadata": {
  "kernelspec": {
   "display_name": "Python 3",
   "language": "python",
   "name": "python3"
  },
  "language_info": {
   "codemirror_mode": {
    "name": "ipython",
    "version": 2
   },
   "file_extension": ".py",
   "mimetype": "text/x-python",
   "name": "python",
   "nbconvert_exporter": "python",
   "pygments_lexer": "ipython2",
   "version": "2.7.6"
  }
 },
 "nbformat": 4,
 "nbformat_minor": 0
}
